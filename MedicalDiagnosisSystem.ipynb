{
  "nbformat": 4,
  "nbformat_minor": 0,
  "metadata": {
    "colab": {
      "provenance": []
    },
    "kernelspec": {
      "name": "python3",
      "display_name": "Python 3"
    },
    "language_info": {
      "name": "python"
    }
  },
  "cells": [
    {
      "cell_type": "code",
      "execution_count": null,
      "metadata": {
        "colab": {
          "base_uri": "https://localhost:8080/"
        },
        "id": "mjzeYVghLa0z",
        "outputId": "33ebb3fb-f15c-4571-9adc-a8983e6f8899"
      },
      "outputs": [
        {
          "output_type": "stream",
          "name": "stdout",
          "text": [
            "Looking in indexes: https://pypi.org/simple, https://us-python.pkg.dev/colab-wheels/public/simple/\n",
            "Collecting scikit-fuzzy\n",
            "  Downloading scikit-fuzzy-0.4.2.tar.gz (993 kB)\n",
            "\u001b[2K     \u001b[90m━━━━━━━━━━━━━━━━━━━━━━━━━━━━━━━━━━━━━━\u001b[0m \u001b[32m994.0/994.0 KB\u001b[0m \u001b[31m15.7 MB/s\u001b[0m eta \u001b[36m0:00:00\u001b[0m\n",
            "\u001b[?25h  Preparing metadata (setup.py) ... \u001b[?25l\u001b[?25hdone\n",
            "Requirement already satisfied: numpy>=1.6.0 in /usr/local/lib/python3.8/dist-packages (from scikit-fuzzy) (1.22.4)\n",
            "Requirement already satisfied: scipy>=0.9.0 in /usr/local/lib/python3.8/dist-packages (from scikit-fuzzy) (1.7.3)\n",
            "Requirement already satisfied: networkx>=1.9.0 in /usr/local/lib/python3.8/dist-packages (from scikit-fuzzy) (3.0)\n",
            "Building wheels for collected packages: scikit-fuzzy\n",
            "  Building wheel for scikit-fuzzy (setup.py) ... \u001b[?25l\u001b[?25hdone\n",
            "  Created wheel for scikit-fuzzy: filename=scikit_fuzzy-0.4.2-py3-none-any.whl size=894088 sha256=2206d4349d83bbb13d6469d3aaa1d25dd5349b41fcfa24f836ad3e71a1ae19de\n",
            "  Stored in directory: /root/.cache/pip/wheels/2c/04/80/7eefb1a2de7d36aefd06432fab2a1486caf0a0596a7067391a\n",
            "Successfully built scikit-fuzzy\n",
            "Installing collected packages: scikit-fuzzy\n",
            "Successfully installed scikit-fuzzy-0.4.2\n"
          ]
        }
      ],
      "source": [
        "pip install -U scikit-fuzzy"
      ]
    },
    {
      "cell_type": "code",
      "source": [
        "import numpy as np\n",
        "import skfuzzy as fuzz\n",
        "from skfuzzy import control as ctrl\n",
        "import random\n",
        "fever = ctrl.Antecedent(np.arange(0,1,0.01),'Fever')\n",
        "fever['Mild']=fuzz.gbellmf(fever.universe,0.1,10,0.2)\n",
        "fever['Moderate']=fuzz.gbellmf(fever.universe,0.15,10,0.45)\n",
        "fever['Severe']=fuzz.gbellmf(fever.universe,0.1,10,0.7)\n",
        "fever['Very Severe']=fuzz.gbellmf(fever.universe,0.1,10,0.9)\n",
        "\n",
        "headache = ctrl.Antecedent(np.arange(0,1,0.01),'Headache')\n",
        "headache['Mild']=fuzz.gbellmf(headache.universe,0.1,10,0.2)\n",
        "headache['Moderate']=fuzz.gbellmf(headache.universe,0.15,10,0.45)\n",
        "headache['Severe']=fuzz.gbellmf(headache.universe,0.1,10,0.7)\n",
        "headache['Very Severe']=fuzz.gbellmf(headache.universe,0.1,10,0.9)\n",
        "\n",
        "nausea = ctrl.Antecedent(np.arange(0,1,0.01),'Nausea')\n",
        "nausea['Mild']=fuzz.gbellmf(nausea.universe,0.1,10,0.2)\n",
        "nausea['Moderate']=fuzz.gbellmf(nausea.universe,0.15,10,0.45)\n",
        "nausea['Severe']=fuzz.gbellmf(nausea.universe,0.1,10,0.7)\n",
        "nausea['Very Severe']=fuzz.gbellmf(nausea.universe,0.1,10,0.9)\n",
        "\n",
        "vomiting = ctrl.Antecedent(np.arange(0,1,0.01),'Vomiting')\n",
        "vomiting['Mild']=fuzz.gbellmf(vomiting.universe,0.1,10,0.2)\n",
        "vomiting['Moderate']=fuzz.gbellmf(vomiting.universe,0.15,10,0.45)\n",
        "vomiting['Severe']=fuzz.gbellmf(vomiting.universe,0.1,10,0.7)\n",
        "vomiting['Very Severe']=fuzz.gbellmf(vomiting.universe,0.1,10,0.9)\n",
        "\n",
        "jaundice = ctrl.Antecedent(np.arange(0,1,0.01),'Jaundice')\n",
        "jaundice['Mild']=fuzz.gbellmf(jaundice.universe,0.1,10,0.2)\n",
        "jaundice['Moderate']=fuzz.gbellmf(jaundice.universe,0.15,10,0.45)\n",
        "jaundice['Severe']=fuzz.gbellmf(jaundice.universe,0.1,10,0.7)\n",
        "jaundice['Very Severe']=fuzz.gbellmf(jaundice.universe,0.1,10,0.9)\n",
        "\n",
        "enlargeliver = ctrl.Antecedent(np.arange(0,1,0.01),'EnlargeLiver')\n",
        "enlargeliver['Mild']=fuzz.gbellmf(enlargeliver.universe,0.1,10,0.2)\n",
        "enlargeliver['Moderate']=fuzz.gbellmf(enlargeliver.universe,0.15,10,0.45)\n",
        "enlargeliver['Severe']=fuzz.gbellmf(enlargeliver.universe,0.1,10,0.7)\n",
        "enlargeliver['Very Severe']=fuzz.gbellmf(enlargeliver.universe,0.1,10,0.9)\n",
        "\n",
        "jointpain = ctrl.Antecedent(np.arange(0,1,0.01),'JointPain')\n",
        "jointpain['Mild']=fuzz.gbellmf(jointpain.universe,0.1,10,0.2)\n",
        "jointpain['Moderate']=fuzz.gbellmf(jointpain.universe,0.15,10,0.45)\n",
        "jointpain['Severe']=fuzz.gbellmf(jointpain.universe,0.1,10,0.7)\n",
        "jointpain['Very Severe']=fuzz.gbellmf(jointpain.universe,0.1,10,0.9)\n",
        "\n",
        "bodyweakness = ctrl.Antecedent(np.arange(0,1,0.01),'BodyWeakness')\n",
        "bodyweakness['Mild']=fuzz.gbellmf(bodyweakness.universe,0.1,10,0.2)\n",
        "bodyweakness['Moderate']=fuzz.gbellmf(bodyweakness.universe,0.15,10,0.45)\n",
        "bodyweakness['Severe']=fuzz.gbellmf(bodyweakness.universe,0.1,10,0.7)\n",
        "bodyweakness['Very Severe']=fuzz.gbellmf(bodyweakness.universe,0.1,10,0.9)\n",
        "\n",
        "dizziness = ctrl.Antecedent(np.arange(0,1,0.01),'Dizziness')\n",
        "dizziness['Mild']=fuzz.gbellmf(dizziness.universe,0.1,10,0.2)\n",
        "dizziness['Moderate']=fuzz.gbellmf(dizziness.universe,0.15,10,0.45)\n",
        "dizziness['Severe']=fuzz.gbellmf(dizziness.universe,0.1,10,0.7)\n",
        "dizziness['Very Severe']=fuzz.gbellmf(dizziness.universe,0.1,10,0.9)\n",
        "\n",
        "lossofappetite = ctrl.Antecedent(np.arange(0,1,0.01),'LossofAppetite')\n",
        "lossofappetite['Mild']=fuzz.gbellmf(lossofappetite.universe,0.1,10,0.2)\n",
        "lossofappetite['Moderate']=fuzz.gbellmf(lossofappetite.universe,0.15,10,0.45)\n",
        "lossofappetite['Severe']=fuzz.gbellmf(lossofappetite.universe,0.1,10,0.7)\n",
        "lossofappetite['Very Severe']=fuzz.gbellmf(lossofappetite.universe,0.1,10,0.9)\n",
        "\n",
        "mp = ctrl.Antecedent(np.arange(0,1,0.01),'MP')\n",
        "mp['Mild']=fuzz.gbellmf(mp.universe,0.1,10,0.2)\n",
        "mp['Moderate']=fuzz.gbellmf(mp.universe,0.15,10,0.45)\n",
        "mp['Severe']=fuzz.gbellmf(mp.universe,0.1,10,0.7)\n",
        "mp['Very Severe']=fuzz.gbellmf(mp.universe,0.1,10,0.9)\n",
        "\n",
        "conclusion = ctrl.Consequent(np.arange(0,1,0.01),'Conclusion')\n",
        "conclusion['Mild']=fuzz.gbellmf(conclusion.universe,0.1,10,0.2)\n",
        "conclusion['Moderate']=fuzz.gbellmf(conclusion.universe,0.15,10,0.45)\n",
        "conclusion['Severe']=fuzz.gbellmf(conclusion.universe,0.1,10,0.7)\n",
        "conclusion['Very Severe']=fuzz.gbellmf(conclusion.universe,0.1,10,0.9)\n",
        "\n",
        "rule1=ctrl.Rule(fever['Mild']&headache['Mild']&nausea['Mild']&vomiting['Mild']&jaundice['Mild']&enlargeliver['Mild']&jointpain['Mild']&bodyweakness['Mild']&dizziness['Severe']&lossofappetite['Mild']&mp['Mild'],conclusion['Mild'])\n",
        "rule2=ctrl.Rule(fever['Moderate']&headache['Mild']&nausea['Mild']&vomiting['Mild']&jaundice['Mild']&enlargeliver['Mild']&jointpain['Moderate']&bodyweakness['Moderate']&dizziness['Severe']&lossofappetite['Severe']&mp['Moderate'],conclusion['Moderate'])\n",
        "rule3=ctrl.Rule(fever['Severe']&headache['Moderate']&nausea['Mild']&vomiting['Mild']&jaundice['Mild']&enlargeliver['Mild']&jointpain['Mild']&bodyweakness['Severe']&dizziness['Severe']&lossofappetite['Severe']&mp['Moderate'],conclusion['Severe'])\n",
        "rule4=ctrl.Rule(fever['Very Severe']&headache['Mild']&nausea['Mild']&vomiting['Mild']&jaundice['Mild']&enlargeliver['Mild']&jointpain['Severe']&bodyweakness['Severe']&dizziness['Mild']&lossofappetite['Mild']&mp['Severe'],conclusion['Very Severe'])\n",
        "rule5=ctrl.Rule(fever['Moderate']&headache['Mild']&nausea['Mild']&vomiting['Moderate']&jaundice['Mild']&enlargeliver['Mild']&jointpain['Moderate']&bodyweakness['Moderate']&dizziness['Moderate']&lossofappetite['Severe']&mp['Moderate'],conclusion['Moderate'])\n",
        "rule6=ctrl.Rule(fever['Mild']&headache['Moderate']&nausea['Moderate']&vomiting['Mild']&jaundice['Mild']&enlargeliver['Mild']&jointpain['Mild']&bodyweakness['Mild']&dizziness['Moderate']&lossofappetite['Mild']&mp['Mild'],conclusion['Mild'])\n",
        "rule7=ctrl.Rule(fever['Mild']&headache['Mild']&nausea['Moderate']&vomiting['Moderate']&jaundice['Mild']&enlargeliver['Mild']&jointpain['Severe']&bodyweakness['Severe']&dizziness['Moderate']&lossofappetite['Moderate']&mp['Moderate'],conclusion['Severe'])\n",
        "rule8=ctrl.Rule(fever['Moderate']&headache['Moderate']&nausea['Moderate']&vomiting['Moderate']&jaundice['Moderate']&enlargeliver['Moderate']&jointpain['Moderate']&bodyweakness['Moderate']&dizziness['Moderate']&lossofappetite['Moderate']&mp['Moderate'],conclusion['Moderate'])\n",
        "rule9=ctrl.Rule(fever['Moderate']&headache['Mild']&nausea['Moderate']&vomiting['Moderate']&jaundice['Mild']&enlargeliver['Severe']&jointpain['Moderate']&bodyweakness['Moderate']&dizziness['Severe']&lossofappetite['Moderate']&mp['Moderate'],conclusion['Moderate'])\n",
        "rule10=ctrl.Rule(fever['Mild']&headache['Mild']&nausea['Moderate']&vomiting['Moderate']&jaundice['Mild']&enlargeliver['Moderate']&jointpain['Mild']&bodyweakness['Mild']&dizziness['Mild']&lossofappetite['Mild']&mp['Mild'],conclusion['Mild'])\n",
        "rule11=ctrl.Rule(fever['Severe']&headache['Severe']&nausea['Severe']&vomiting['Severe']&jaundice['Severe']&enlargeliver['Severe']&jointpain['Severe']&bodyweakness['Very Severe']&dizziness['Severe']&lossofappetite['Severe']&mp['Moderate'],conclusion['Very Severe'])\n",
        "rule12=ctrl.Rule(fever['Moderate']&headache['Severe']&nausea['Moderate']&vomiting['Severe']&jaundice['Moderate']&enlargeliver['Severe']&jointpain['Moderate']&bodyweakness['Severe']&dizziness['Moderate']&lossofappetite['Mild']&mp['Moderate'],conclusion['Severe'])\n",
        "rule13=ctrl.Rule(fever['Mild']&headache['Moderate']&nausea['Moderate']&vomiting['Moderate']&jaundice['Mild']&enlargeliver['Mild']&jointpain['Mild']&bodyweakness['Moderate']&dizziness['Mild']&lossofappetite['Moderate']&mp['Moderate'],conclusion['Moderate'])\n",
        "rule14=ctrl.Rule(fever['Severe']&headache['Severe']&nausea['Moderate']&vomiting['Severe']&jaundice['Severe']&enlargeliver['Severe']&jointpain['Severe']&bodyweakness['Severe']&dizziness['Moderate']&lossofappetite['Moderate']&mp['Severe'],conclusion['Severe'])\n",
        "rule15=ctrl.Rule(fever['Mild']&headache['Mild']&nausea['Mild']&vomiting['Moderate']&jaundice['Mild']&enlargeliver['Mild']&jointpain['Mild']&bodyweakness['Severe']&dizziness['Mild']&lossofappetite['Severe']&mp['Moderate'],conclusion['Severe'])\n",
        "rule16=ctrl.Rule(fever['Very Severe']&headache['Moderate']&nausea['Mild']&vomiting['Moderate']&jaundice['Severe']&enlargeliver['Moderate']&jointpain['Mild']&bodyweakness['Very Severe']&dizziness['Severe']&lossofappetite['Mild']&mp['Moderate'],conclusion['Very Severe'])\n",
        "rule17=ctrl.Rule(fever['Mild']&headache['Very Severe']&nausea['Moderate']&vomiting['Moderate']&jaundice['Mild']&enlargeliver['Moderate']&jointpain['Mild']&bodyweakness['Moderate']&dizziness['Very Severe']&lossofappetite['Mild']&mp['Moderate'],conclusion['Very Severe'])\n",
        "rule18=ctrl.Rule(fever['Moderate']&headache['Very Severe']&nausea['Very Severe']&vomiting['Mild']&jaundice['Severe']&enlargeliver['Severe']&jointpain['Moderate']&bodyweakness['Severe']&dizziness['Very Severe']&lossofappetite['Very Severe']&mp['Severe'],conclusion['Very Severe'])\n",
        "rule19=ctrl.Rule(fever['Moderate']&headache['Moderate']&nausea['Moderate']&vomiting['Moderate']&jaundice['Mild']&enlargeliver['Mild']&jointpain['Moderate']&bodyweakness['Moderate']&dizziness['Moderate']&lossofappetite['Moderate']&mp['Moderate'],conclusion['Moderate'])\n",
        "rule20=ctrl.Rule(fever['Very Severe']&headache['Severe']&nausea['Severe']&vomiting['Severe']&jaundice['Severe']&enlargeliver['Severe']&jointpain['Severe']&bodyweakness['Severe']&dizziness['Severe']&lossofappetite['Severe']&mp['Moderate'],conclusion['Very Severe'])\n",
        "\n",
        "computing_ctrl = ctrl.ControlSystem([rule1,rule2,rule3,rule4,rule5,rule6,rule7,rule8,rule9,rule10,rule11,rule12,rule13,rule14,rule15,rule16,rule17,rule18,rule19,rule20])\n",
        "computing = ctrl.ControlSystemSimulation(computing_ctrl)\n",
        "computing.input['Fever'] = (random.randint(3,6))/10\n",
        "computing.input['Headache'] = (random.randint(6,8))/10\n",
        "computing.input['Nausea'] = (random.randint(3,6))/10\n",
        "computing.input['Vomiting'] = (random.randint(6,8))/10\n",
        "computing.input['Jaundice'] = (random.randint(3,6))/10\n",
        "computing.input['EnlargeLiver'] = (random.randint(6,8))/10\n",
        "computing.input['JointPain'] = (random.randint(3,6))/10\n",
        "computing.input['BodyWeakness'] = (random.randint(6,8))/10\n",
        "computing.input['Dizziness'] = (random.randint(3,6))/10\n",
        "computing.input['LossofAppetite'] = (random.randint(1,3))/10\n",
        "computing.input['MP'] = (random.randint(3,6))/10\n",
        "\n",
        "computing.compute()\n",
        "print(computing.output['Conclusion'])\n",
        "conclusion.view(sim=computing)"
      ],
      "metadata": {
        "colab": {
          "base_uri": "https://localhost:8080/",
          "height": 298
        },
        "id": "vMt22FZEQY5Z",
        "outputId": "92a736c1-1c50-4567-b712-4b87256b8c38"
      },
      "execution_count": 48,
      "outputs": [
        {
          "output_type": "stream",
          "name": "stdout",
          "text": [
            "0.6999999348197385\n"
          ]
        },
        {
          "output_type": "display_data",
          "data": {
            "text/plain": [
              "<Figure size 432x288 with 1 Axes>"
            ],
            "image/png": "[encoded data removed]"
          },
          "metadata": {
            "needs_background": "light"
          }
        }
      ]
    },
    {
      "cell_type": "code",
      "source": [],
      "metadata": {
        "id": "h0XSb3rFQqfK"
      },
      "execution_count": null,
      "outputs": []
    }
  ]
}